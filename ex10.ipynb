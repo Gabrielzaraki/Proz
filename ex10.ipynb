{
  "nbformat": 4,
  "nbformat_minor": 0,
  "metadata": {
    "colab": {
      "provenance": [],
      "authorship_tag": "ABX9TyMfRl4XdneLnIy8heV2O2D1",
      "include_colab_link": true
    },
    "kernelspec": {
      "name": "python3",
      "display_name": "Python 3"
    },
    "language_info": {
      "name": "python"
    }
  },
  "cells": [
    {
      "cell_type": "markdown",
      "metadata": {
        "id": "view-in-github",
        "colab_type": "text"
      },
      "source": [
        "<a href=\"https://colab.research.google.com/github/Gabrielzaraki/Proz/blob/main/ex10.ipynb\" target=\"_parent\"><img src=\"https://colab.research.google.com/assets/colab-badge.svg\" alt=\"Open In Colab\"/></a>"
      ]
    },
    {
      "cell_type": "code",
      "execution_count": 1,
      "metadata": {
        "colab": {
          "base_uri": "https://localhost:8080/",
          "height": 70
        },
        "id": "usCFT33CMmC0",
        "outputId": "9bf3bbee-3be9-4b83-ede2-e3c871ebcced"
      },
      "outputs": [
        {
          "output_type": "execute_result",
          "data": {
            "text/plain": [
              "'Faça uma função calculadora de dois números com três parâmetros: os dois primeiros serão os números da operação e o terceiro será a entrada que definirá a operação a ser executada. Considera a seguinte definição:\\n1. Soma\\n2. Subtração\\n3. Multiplicação\\n4. Divisão\\n\\nCaso seja inserido um número de operação que não exista, o resultado deverá ser 0.'"
            ],
            "application/vnd.google.colaboratory.intrinsic+json": {
              "type": "string"
            }
          },
          "metadata": {},
          "execution_count": 1
        }
      ],
      "source": [
        "\"\"\"Faça uma função calculadora de dois números com três parâmetros: os dois primeiros serão os números da operação e o terceiro será a entrada que definirá a operação a ser executada. Considera a seguinte definição:\n",
        "1. Soma\n",
        "2. Subtração\n",
        "3. Multiplicação\n",
        "4. Divisão\n",
        "\n",
        "Caso seja inserido um número de operação que não exista, o resultado deverá ser 0.\"\"\"\n"
      ]
    },
    {
      "cell_type": "code",
      "source": [
        "def calculadora(num1,num2,op):\n",
        "  if op == 1:\n",
        "    return num1 + num2\n",
        "  elif op == 2:\n",
        "    return num1 - num2\n",
        "  elif op == 3:\n",
        "    return num1 * num2\n",
        "  elif op == 4:\n",
        "    try:\n",
        "      return num1/num2\n",
        "    except:\n",
        "      print(\"Divisão por zero não permitida\")\n",
        "      return 0\n",
        "  else:\n",
        "    return 0"
      ],
      "metadata": {
        "id": "phU10CNwMtse"
      },
      "execution_count": 13,
      "outputs": []
    },
    {
      "cell_type": "code",
      "source": [
        "calculadora(2,0,9)"
      ],
      "metadata": {
        "colab": {
          "base_uri": "https://localhost:8080/"
        },
        "id": "8Kf8i2c6NWHU",
        "outputId": "759c7070-3f13-4565-a1ed-1b81b417aca7"
      },
      "execution_count": 15,
      "outputs": [
        {
          "output_type": "execute_result",
          "data": {
            "text/plain": [
              "0"
            ]
          },
          "metadata": {},
          "execution_count": 15
        }
      ]
    },
    {
      "cell_type": "code",
      "source": [],
      "metadata": {
        "id": "MACLm5zWNaDh"
      },
      "execution_count": null,
      "outputs": []
    }
  ]
}