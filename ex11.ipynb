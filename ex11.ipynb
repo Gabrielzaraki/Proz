{
  "nbformat": 4,
  "nbformat_minor": 0,
  "metadata": {
    "colab": {
      "provenance": [],
      "authorship_tag": "ABX9TyPhHbAEPdkPRAUXFiU4k/Mq",
      "include_colab_link": true
    },
    "kernelspec": {
      "name": "python3",
      "display_name": "Python 3"
    },
    "language_info": {
      "name": "python"
    }
  },
  "cells": [
    {
      "cell_type": "markdown",
      "metadata": {
        "id": "view-in-github",
        "colab_type": "text"
      },
      "source": [
        "<a href=\"https://colab.research.google.com/github/Gabrielzaraki/Proz/blob/main/ex11.ipynb\" target=\"_parent\"><img src=\"https://colab.research.google.com/assets/colab-badge.svg\" alt=\"Open In Colab\"/></a>"
      ]
    },
    {
      "cell_type": "code",
      "execution_count": null,
      "metadata": {
        "id": "nGIyd8CAanGZ"
      },
      "outputs": [],
      "source": [
        "\"\"\"Desenvolva um programa que recebe do usuário nome completo e ano de\n",
        "nascimento que seja entre 1922 e 2021.\n",
        "A partir dessas informações, o sistema mostrará o nome do usuário e a idade que\n",
        "completou, ou completará, no ano atual (2022).\n",
        "\n",
        "Caso o usuário não digite um número ou apareça um inválido no campo do ano, o\n",
        "sistema informará o erro e continuará perguntando até que um valor correto seja\n",
        "preenchido.\n",
        "\n",
        "Trabalhe esse código em seu IDE, suba ele para sua conta no GitHub e\n",
        "compartilhe o link desse projeto no campo ao lado para que outros\n",
        "desenvolvedores possam analisá-lo."
      ]
    },
    {
      "cell_type": "code",
      "source": [
        "prosseguir = True\n",
        "\n",
        "while prosseguir:\n",
        "  nome = input(\"Digite seu nome completo: \")\n",
        "  try:\n",
        "    ano_nascimento = int(input(\"Digite o ano de nascimento: \"))\n",
        "    if ano_nascimento >= 1922 and ano_nascimento < 2022:\n",
        "      print(nome + \" completou ou completará \" + str(2022-ano_nascimento) + \" anos de idade\")\n",
        "      prosseguir = False\n",
        "    else:\n",
        "      print(\"Dados Incorretos!\")\n",
        "      continue\n",
        "  except:\n",
        "    print(\"Dados Incorretos!\")"
      ],
      "metadata": {
        "id": "qjbJ2j5-ccyV"
      },
      "execution_count": null,
      "outputs": []
    },
    {
      "cell_type": "code",
      "source": [],
      "metadata": {
        "id": "9RpJx47Ydp6x"
      },
      "execution_count": null,
      "outputs": []
    }
  ]
}