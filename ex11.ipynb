{
  "nbformat": 4,
  "nbformat_minor": 0,
  "metadata": {
    "colab": {
      "provenance": [],
      "authorship_tag": "ABX9TyNOIANQmMo/RdFv4igztPef",
      "include_colab_link": true
    },
    "kernelspec": {
      "name": "python3",
      "display_name": "Python 3"
    },
    "language_info": {
      "name": "python"
    }
  },
  "cells": [
    {
      "cell_type": "markdown",
      "metadata": {
        "id": "view-in-github",
        "colab_type": "text"
      },
      "source": [
        "<a href=\"https://colab.research.google.com/github/Gabrielzaraki/Proz/blob/main/ex11.ipynb\" target=\"_parent\"><img src=\"https://colab.research.google.com/assets/colab-badge.svg\" alt=\"Open In Colab\"/></a>"
      ]
    },
    {
      "cell_type": "code",
      "execution_count": null,
      "metadata": {
        "id": "W9cjdVqWPvRn"
      },
      "outputs": [],
      "source": [
        "\"\"\"Faça uma função calculadora que os números e as operações serão feitas pelo\n",
        "usuário. O código deve ficar rodando infinitamente até que o usuário escolha a\n",
        "opção de sair. No início, o programa mostrará a seguinte lista de operações:\n",
        "\n",
        "1: Soma\n",
        "2: Subtração\n",
        "3: Multiplicação\n",
        "4: Divisão\n",
        "0: Sair\n",
        "\n",
        "Digite o número para a operação correspondente e caso o usuário introduza\n",
        "qualquer outro, o sistema deve mostrar a mensagem “Essa opção não existe” e\n",
        "voltar ao menu de opções.\n",
        "\n",
        "Após a seleção, o sistema deve pedir para o usuário inserir o primeiro e segundo\n",
        " valor, um de cada. Depois precisa executar a operação e mostrar o resultado na\n",
        " tela. Quando o usuário escolher a opção “Sair”, o sistema irá parar.\n",
        "\n",
        "É necessário que o sistema mostre as opções sempre que finalizar uma operação e\n",
        "mostrar o resultado.\n",
        "\n",
        "Trabalhe esse código em seu IDE, suba ele para sua conta no GitHub e compartilhe\n",
        "o link desse projeto no campo ao lado para que outros desenvolvedores possam\n",
        "analisá-lo.\"\"\""
      ]
    },
    {
      "cell_type": "code",
      "source": [
        "def calculadora(num1,num2,op):\n",
        "  if op == 1:\n",
        "    return num1 + num2\n",
        "  elif op == 2:\n",
        "    return num1 - num2\n",
        "  elif op == 3:\n",
        "    return num1 * num2\n",
        "  elif op == 4:\n",
        "    try:\n",
        "      return num1/num2\n",
        "    except:\n",
        "      print(\"Divisão por zero não permitida\")\n",
        "      return 0\n",
        "  else:\n",
        "    return 0"
      ],
      "metadata": {
        "id": "vDv6e6ByUFPw"
      },
      "execution_count": 25,
      "outputs": []
    },
    {
      "cell_type": "code",
      "source": [
        "continuar = 1\n",
        "while continuar != 0:\n",
        "  print(\"\"\"\\n1: Soma\\n2: Subtração\\n3: Multiplicação\\n4: Divisão\\n0: Sair\\n\"\"\")\n",
        "  continuar = int(input())\n",
        "  if continuar == 0:\n",
        "    continue\n",
        "  elif continuar not in list(range(1,5)):\n",
        "    print(\"Essa opção não existe\")\n",
        "    continue\n",
        "  else:\n",
        "    num1 = float(input(\"Digite o primeiro número para a operação correspondente: \"))\n",
        "    num2 = float(input(\"Digite o segundo número para a operação correspondente: \"))\n",
        "    print (\"\\nResultado: \"+ str(calculadora(num1,num2,continuar)))"
      ],
      "metadata": {
        "id": "-cVC-1ygP6ru"
      },
      "execution_count": null,
      "outputs": []
    },
    {
      "cell_type": "code",
      "source": [],
      "metadata": {
        "id": "iG2Ur2LEXAge"
      },
      "execution_count": null,
      "outputs": []
    }
  ]
}