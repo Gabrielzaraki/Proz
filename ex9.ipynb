{
  "nbformat": 4,
  "nbformat_minor": 0,
  "metadata": {
    "colab": {
      "provenance": [],
      "authorship_tag": "ABX9TyO1+8b44wTv//MMyqFriyoL",
      "include_colab_link": true
    },
    "kernelspec": {
      "name": "python3",
      "display_name": "Python 3"
    },
    "language_info": {
      "name": "python"
    }
  },
  "cells": [
    {
      "cell_type": "markdown",
      "metadata": {
        "id": "view-in-github",
        "colab_type": "text"
      },
      "source": [
        "<a href=\"https://colab.research.google.com/github/Gabrielzaraki/Proz/blob/main/ex9.ipynb\" target=\"_parent\"><img src=\"https://colab.research.google.com/assets/colab-badge.svg\" alt=\"Open In Colab\"/></a>"
      ]
    },
    {
      "cell_type": "code",
      "execution_count": 1,
      "metadata": {
        "colab": {
          "base_uri": "https://localhost:8080/",
          "height": 105
        },
        "id": "_6XhHcDzqrcY",
        "outputId": "9baf2317-81b9-4a25-f1e0-ea62483a6d77"
      },
      "outputs": [
        {
          "output_type": "execute_result",
          "data": {
            "text/plain": [
              "\"Precisamos imprimir um número paracada andar de um hotel de 20 andares. Porém, o dono do hotel é supersticioso e optou por não ter um 13ro andar.\\n\\nEscreva um código que imprima todos os números exceto o número 13.\\nEscreva mais um código que resolva o mesmo problema, mas dessa vez usando o laço de repetição 'while'.\\n\\nComo desafio, imprima eles em ordem decrescente (20, 19, 18...)\\n\\nTrabalhe esse código em seu IDE, suba ele para sua conta no GitHub e compartilhe o link desse projeto no campo ao lado para que outros desenvolvedores possam analisá-lo.\""
            ],
            "application/vnd.google.colaboratory.intrinsic+json": {
              "type": "string"
            }
          },
          "metadata": {},
          "execution_count": 1
        }
      ],
      "source": [
        "\"\"\"Precisamos imprimir um número paracada andar de um hotel de 20 andares. Porém, o dono do hotel é supersticioso e optou por não ter um 13ro andar.\n",
        "\n",
        "Escreva um código que imprima todos os números exceto o número 13.\n",
        "Escreva mais um código que resolva o mesmo problema, mas dessa vez usando o laço de repetição 'while'.\n",
        "\n",
        "Como desafio, imprima eles em ordem decrescente (20, 19, 18...)\n",
        "\n",
        "Trabalhe esse código em seu IDE, suba ele para sua conta no GitHub e compartilhe o link desse projeto no campo ao lado para que outros desenvolvedores possam analisá-lo.\"\"\"\n",
        "\n"
      ]
    },
    {
      "cell_type": "code",
      "source": [
        "#Solução 1\n",
        "\n",
        "for i in range(20,0,-1):\n",
        "  if i == 13:\n",
        "    continue\n",
        "  else:\n",
        "    print(i)"
      ],
      "metadata": {
        "colab": {
          "base_uri": "https://localhost:8080/"
        },
        "id": "VPJ3rbIyq1Xn",
        "outputId": "16a8c6f4-50e6-4ac2-fb22-402c53cb9108"
      },
      "execution_count": 23,
      "outputs": [
        {
          "output_type": "stream",
          "name": "stdout",
          "text": [
            "20\n",
            "19\n",
            "18\n",
            "17\n",
            "16\n",
            "15\n",
            "14\n",
            "12\n",
            "11\n",
            "10\n",
            "9\n",
            "8\n",
            "7\n",
            "6\n",
            "5\n",
            "4\n",
            "3\n",
            "2\n",
            "1\n"
          ]
        }
      ]
    },
    {
      "cell_type": "code",
      "source": [
        "#Solução 2\n",
        "\n",
        "i = 20\n",
        "while i > 0:\n",
        "  i -= 1\n",
        "  if i == 13:\n",
        "    continue\n",
        "  else:\n",
        "    print(i)\n",
        ""
      ],
      "metadata": {
        "colab": {
          "base_uri": "https://localhost:8080/"
        },
        "id": "Ws7Ry6rrsXlm",
        "outputId": "38c80385-8920-4dd0-eab4-aa825c0362ef"
      },
      "execution_count": 27,
      "outputs": [
        {
          "output_type": "stream",
          "name": "stdout",
          "text": [
            "19\n",
            "18\n",
            "17\n",
            "16\n",
            "15\n",
            "14\n",
            "12\n",
            "11\n",
            "10\n",
            "9\n",
            "8\n",
            "7\n",
            "6\n",
            "5\n",
            "4\n",
            "3\n",
            "2\n",
            "1\n",
            "0\n"
          ]
        }
      ]
    },
    {
      "cell_type": "code",
      "source": [],
      "metadata": {
        "id": "7WdL8A9btLK3"
      },
      "execution_count": null,
      "outputs": []
    }
  ]
}